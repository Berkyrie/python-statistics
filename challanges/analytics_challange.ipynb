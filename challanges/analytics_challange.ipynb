{
 "cells": [
  {
   "cell_type": "markdown",
   "metadata": {},
   "source": [
    "# Analytics Challange\n",
    " You are a business analyst working for ...:\n",
    "\n",
    " A business client has requested a large freight to be transported urgently from .... to .... When asked about the weight\n",
    " of the cargo they could not supply the exact weight, however they have specified that there are a total  of 36 boxes.\n",
    "\n",
    " From prior experience with this client you know that this type of cargo follows a distribution with mean=72 lbs and\n",
    " std.dev. = 3 lbs.\n",
    "\n",
    " Max cargo weight of a plane is 2630 lbs.\n",
    "\n",
    " Based on this information what is the probability that all of cargo can be safely loaded onto the plane and transported?"
   ]
  },
  {
   "cell_type": "markdown",
   "metadata": {},
   "source": [
    "### Import necessary libraries"
   ]
  },
  {
   "cell_type": "code",
   "execution_count": 1,
   "metadata": {},
   "outputs": [],
   "source": [
    "import numpy as np\n",
    "from scipy import stats as st"
   ]
  },
  {
   "cell_type": "markdown",
   "metadata": {},
   "source": [
    "### Assigning our data to variables"
   ]
  },
  {
   "cell_type": "code",
   "execution_count": 3,
   "metadata": {},
   "outputs": [],
   "source": [
    "original_mean = 72\n",
    "original_stdev = 3\n",
    "\n",
    "number_of_samples = 36\n",
    "\n",
    "max_cargo_weight = 2630"
   ]
  },
  {
   "cell_type": "markdown",
   "metadata": {},
   "source": [
    "### Calculating sampling distribution mean, sampling distribution std dev"
   ]
  },
  {
   "cell_type": "code",
   "execution_count": 12,
   "metadata": {},
   "outputs": [
    {
     "name": "stdout",
     "output_type": "stream",
     "text": [
      "Sampling distribution mean: 72\n",
      "Sampling distribution std dev: 0.5\n",
      "Critic weight of a box: 73.06\n"
     ]
    }
   ],
   "source": [
    "# original data mean = sampling distribution mean\n",
    "# sampling distribution std dev = original data std dev / square root of sample numbers\n",
    "\n",
    "sampling_distribution_mean = original_mean\n",
    "\n",
    "sampling_distribution_stdev =  original_stdev / np.sqrt(number_of_samples)\n",
    "\n",
    "critic_weight = round(max_cargo_weight / number_of_samples,2) # find out critic weight of one box so: critic weight box * number of boxes = max cargo weight of plane\n",
    "\n",
    "print('Sampling distribution mean:', sampling_distribution_mean)\n",
    "print('Sampling distribution std dev:', sampling_distribution_stdev)\n",
    "print('Critic weight of a box:', critic_weight)"
   ]
  },
  {
   "cell_type": "markdown",
   "metadata": {},
   "source": [
    "### Find what percent probability the total weight is below the maximum cargo weight"
   ]
  },
  {
   "cell_type": "code",
   "execution_count": 14,
   "metadata": {},
   "outputs": [
    {
     "data": {
      "text/plain": [
       "2.12"
      ]
     },
     "execution_count": 14,
     "metadata": {},
     "output_type": "execute_result"
    }
   ],
   "source": [
    "# to find this probability we get help from z score\n",
    "# z = (value - mean) / std dev\n",
    "\n",
    "z_score_critic_weight = round((critic_weight - sampling_distribution_mean) / sampling_distribution_stdev, 2)\n",
    "\n",
    "z_score_critic_weight"
   ]
  },
  {
   "cell_type": "markdown",
   "metadata": {},
   "source": [
    "### That z score means critic weight of a box is 2.12 standart deviation away from mean. If we look at Standart Normal Probabilities Table we can see 2.12 z-score equals 0.9830 probability. So we can say that the cargo can be sent with a   98.3% probability."
   ]
  }
 ],
 "metadata": {
  "kernelspec": {
   "display_name": "Python 3",
   "language": "python",
   "name": "python3"
  },
  "language_info": {
   "codemirror_mode": {
    "name": "ipython",
    "version": 3
   },
   "file_extension": ".py",
   "mimetype": "text/x-python",
   "name": "python",
   "nbconvert_exporter": "python",
   "pygments_lexer": "ipython3",
   "version": "3.11.4"
  },
  "orig_nbformat": 4
 },
 "nbformat": 4,
 "nbformat_minor": 2
}
