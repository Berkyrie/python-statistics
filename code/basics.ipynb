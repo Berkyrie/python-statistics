{
 "cells": [
  {
   "cell_type": "code",
   "execution_count": 11,
   "metadata": {},
   "outputs": [],
   "source": [
    "import numpy as np\n",
    "from scipy import stats as st"
   ]
  },
  {
   "cell_type": "code",
   "execution_count": 3,
   "metadata": {},
   "outputs": [],
   "source": [
    "# Exam scores\n",
    "exam_scores = np.array([85, 90, 78, 92, 88, 95, 83, 78, 88, 92])"
   ]
  },
  {
   "cell_type": "code",
   "execution_count": 7,
   "metadata": {},
   "outputs": [],
   "source": [
    "exam_scores.sort()"
   ]
  },
  {
   "cell_type": "code",
   "execution_count": 8,
   "metadata": {},
   "outputs": [
    {
     "data": {
      "text/plain": [
       "array([78, 78, 83, 85, 88, 88, 90, 92, 92, 95])"
      ]
     },
     "execution_count": 8,
     "metadata": {},
     "output_type": "execute_result"
    }
   ],
   "source": [
    "exam_scores"
   ]
  },
  {
   "cell_type": "code",
   "execution_count": 21,
   "metadata": {},
   "outputs": [
    {
     "name": "stdout",
     "output_type": "stream",
     "text": [
      "Exam Scores mean: 86.9\n",
      "Exam Scores median: 88.0\n",
      "Exam Scores mode: 78\n",
      "Exam Scores standart deviation: 5.54\n"
     ]
    }
   ],
   "source": [
    "print('Exam Scores mean:', np.mean(exam_scores))\n",
    "print('Exam Scores median:', np.median(exam_scores))\n",
    "mode = st.mode(exam_scores)\n",
    "print('Exam Scores mode:', mode[0])\n",
    "print('Exam Scores standart deviation:', round(np.std(exam_scores), 2))"
   ]
  },
  {
   "cell_type": "code",
   "execution_count": 28,
   "metadata": {},
   "outputs": [
    {
     "data": {
      "text/plain": [
       "5.54"
      ]
     },
     "execution_count": 28,
     "metadata": {},
     "output_type": "execute_result"
    }
   ],
   "source": [
    "# calculating std dev without np.std() function .... square root of variance equals standart deviation\n",
    "sum = 0\n",
    "count = len(exam_scores)\n",
    "\n",
    "for score in exam_scores:\n",
    "    sum += np.square(score - np.mean(exam_scores))\n",
    "\n",
    "variance = sum/count\n",
    "std_dev = round(np.sqrt(variance), 2)\n",
    "std_dev"
   ]
  }
 ],
 "metadata": {
  "kernelspec": {
   "display_name": "Python 3",
   "language": "python",
   "name": "python3"
  },
  "language_info": {
   "codemirror_mode": {
    "name": "ipython",
    "version": 3
   },
   "file_extension": ".py",
   "mimetype": "text/x-python",
   "name": "python",
   "nbconvert_exporter": "python",
   "pygments_lexer": "ipython3",
   "version": "3.11.4"
  },
  "orig_nbformat": 4
 },
 "nbformat": 4,
 "nbformat_minor": 2
}
