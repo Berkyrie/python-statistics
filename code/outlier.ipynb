{
 "cells": [
  {
   "cell_type": "code",
   "execution_count": 1,
   "metadata": {},
   "outputs": [],
   "source": [
    "import numpy as np"
   ]
  },
  {
   "cell_type": "code",
   "execution_count": 21,
   "metadata": {},
   "outputs": [],
   "source": [
    "# monthly incomes in a city\n",
    "incomes = np.array([2500, 2800, 3000, 3200, 3500, 3800, 4000, 4200, 4400, 4600, 4800, 5000, 5200, 6000, 6200, 80000])"
   ]
  },
  {
   "cell_type": "code",
   "execution_count": 22,
   "metadata": {},
   "outputs": [
    {
     "data": {
      "text/plain": [
       "8950.0"
      ]
     },
     "execution_count": 22,
     "metadata": {},
     "output_type": "execute_result"
    }
   ],
   "source": [
    "incomes_mean = np.mean(incomes)\n",
    "incomes_mean"
   ]
  },
  {
   "cell_type": "markdown",
   "metadata": {},
   "source": [
    "If we look at the mean we can see that mean is greater than every value in dataset except 80000.\n",
    "This means 80000 is an outlier and greatly influenced the mean"
   ]
  },
  {
   "cell_type": "code",
   "execution_count": 23,
   "metadata": {},
   "outputs": [
    {
     "data": {
      "text/plain": [
       "4300.0"
      ]
     },
     "execution_count": 23,
     "metadata": {},
     "output_type": "execute_result"
    }
   ],
   "source": [
    "incomes_median = np.median(incomes)\n",
    "incomes_median"
   ]
  },
  {
   "cell_type": "markdown",
   "metadata": {},
   "source": [
    "But median is not affected by the outlier as mean. Of course its affected but much lesser."
   ]
  },
  {
   "cell_type": "code",
   "execution_count": 19,
   "metadata": {},
   "outputs": [
    {
     "data": {
      "text/plain": [
       "18374.68"
      ]
     },
     "execution_count": 19,
     "metadata": {},
     "output_type": "execute_result"
    }
   ],
   "source": [
    "incomes_std = round(np.std(incomes), 2)\n",
    "incomes_std"
   ]
  },
  {
   "cell_type": "markdown",
   "metadata": {},
   "source": [
    "The outlier has increased the variability of dataset"
   ]
  },
  {
   "cell_type": "code",
   "execution_count": 20,
   "metadata": {},
   "outputs": [
    {
     "data": {
      "text/plain": [
       "3.8667340057078543"
      ]
     },
     "execution_count": 20,
     "metadata": {},
     "output_type": "execute_result"
    }
   ],
   "source": [
    "# find how many standard deviations the outlier is away from the mean\n",
    "\n",
    "outlier_z_score = (incomes.max() - incomes_mean) / incomes_std\n",
    "outlier_z_score"
   ]
  },
  {
   "cell_type": "markdown",
   "metadata": {},
   "source": [
    "General idea: Any z-score greater than +3 or less than -3 is considered as outlier\n",
    "\n",
    "According to this idea we can say that 80000 is an outlier"
   ]
  },
  {
   "cell_type": "code",
   "execution_count": 32,
   "metadata": {},
   "outputs": [
    {
     "name": "stdout",
     "output_type": "stream",
     "text": [
      "Original Data:  [ 2500  2800  3000  3200  3500  3800  4000  4200  4400  4600  4800  5000\n",
      "  5200  6000  6200 80000]\n",
      "Outlier Removed Data:  [2500 2800 3000 3200 3500 3800 4000 4200 4400 4600 4800 5000 5200 6000\n",
      " 6200]\n"
     ]
    }
   ],
   "source": [
    "# Remove outliers with z score\n",
    "\n",
    "z_scores = (incomes - incomes_mean) / incomes_std\n",
    "\n",
    "outlier_indices = np.where(np.abs(z_scores) > 3)\n",
    "\n",
    "outlier_removed_data = np.delete(incomes, outlier_indices)\n",
    "\n",
    "print('Original Data: ', incomes)\n",
    "print('Outlier Removed Data: ', outlier_removed_data)"
   ]
  }
 ],
 "metadata": {
  "kernelspec": {
   "display_name": "Python 3",
   "language": "python",
   "name": "python3"
  },
  "language_info": {
   "codemirror_mode": {
    "name": "ipython",
    "version": 3
   },
   "file_extension": ".py",
   "mimetype": "text/x-python",
   "name": "python",
   "nbconvert_exporter": "python",
   "pygments_lexer": "ipython3",
   "version": "3.11.4"
  },
  "orig_nbformat": 4
 },
 "nbformat": 4,
 "nbformat_minor": 2
}
