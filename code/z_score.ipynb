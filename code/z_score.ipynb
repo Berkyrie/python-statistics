{
 "cells": [
  {
   "cell_type": "code",
   "execution_count": 1,
   "metadata": {},
   "outputs": [],
   "source": [
    "import numpy as np\n",
    "from scipy import stats as st"
   ]
  },
  {
   "cell_type": "code",
   "execution_count": 2,
   "metadata": {},
   "outputs": [],
   "source": [
    "# Exam scores\n",
    "exam_scores = np.array([85, 90, 78, 92, 88, 95, 83, 78, 88, 92])"
   ]
  },
  {
   "cell_type": "code",
   "execution_count": 12,
   "metadata": {},
   "outputs": [
    {
     "data": {
      "text/plain": [
       "array([-0.34,  0.56, -1.61,  0.92,  0.2 ,  1.46, -0.7 , -1.61,  0.2 ,\n",
       "        0.92])"
      ]
     },
     "execution_count": 12,
     "metadata": {},
     "output_type": "execute_result"
    }
   ],
   "source": [
    "# z-score normalization   (value - mean) / std.dev.\n",
    "# z-scores represent how many standard deviations each value is away from the mean\n",
    "\n",
    "z_normalized_exam_scores = np.around(st.zscore(exam_scores),2)\n",
    "z_normalized_exam_scores"
   ]
  },
  {
   "cell_type": "code",
   "execution_count": 13,
   "metadata": {},
   "outputs": [
    {
     "data": {
      "text/plain": [
       "array([-0.34,  0.56, -1.61,  0.92,  0.2 ,  1.46, -0.7 , -1.61,  0.2 ,\n",
       "        0.92])"
      ]
     },
     "execution_count": 13,
     "metadata": {},
     "output_type": "execute_result"
    }
   ],
   "source": [
    "#z-score normalization without scipy.stats.zscore() function\n",
    "\n",
    "z_scores = np.array([])\n",
    "\n",
    "for score in exam_scores:\n",
    "    z_scores = np.append(z_scores,((score - np.mean(exam_scores)) / np.std(exam_scores)))\n",
    "\n",
    "np.around(z_scores,2)"
   ]
  }
 ],
 "metadata": {
  "kernelspec": {
   "display_name": "Python 3",
   "language": "python",
   "name": "python3"
  },
  "language_info": {
   "codemirror_mode": {
    "name": "ipython",
    "version": 3
   },
   "file_extension": ".py",
   "mimetype": "text/x-python",
   "name": "python",
   "nbconvert_exporter": "python",
   "pygments_lexer": "ipython3",
   "version": "3.11.4"
  },
  "orig_nbformat": 4
 },
 "nbformat": 4,
 "nbformat_minor": 2
}
